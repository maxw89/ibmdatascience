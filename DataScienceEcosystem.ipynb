{
 "cells": [
  {
   "cell_type": "markdown",
   "id": "310830a4-af31-4a7c-a498-bb6842bcbbc7",
   "metadata": {},
   "source": [
    "# Data Science Tools and Ecosystem"
   ]
  },
  {
   "cell_type": "markdown",
   "id": "16c7f95d-3753-4102-94a0-3b54793cded8",
   "metadata": {},
   "source": [
    "In this notebook, Data Science Tools and Ecosystem are summarized."
   ]
  },
  {
   "cell_type": "markdown",
   "id": "6f8f8ee6-2671-49b4-b6b8-452348df8e54",
   "metadata": {},
   "source": [
    "**Objectives:**\n",
    "- Pandas\n",
    "- NumPy\n",
    "- Matplotlib\n",
    "- scikitlearn"
   ]
  },
  {
   "cell_type": "markdown",
   "id": "9287fe9b-b9b4-4e97-bd30-8bc19ca44eea",
   "metadata": {},
   "source": [
    "Some of the popular languages that Data Scientists use are:\n",
    "1. Python\n",
    "2. R\n",
    "3. Java"
   ]
  },
  {
   "cell_type": "markdown",
   "id": "0b58dd49-2c8b-4bc2-8ac0-399aaf8c9091",
   "metadata": {},
   "source": [
    "Some of the commonly used libraries used by Data Scientists include:"
   ]
  },
  {
   "cell_type": "markdown",
   "id": "af3ba9d2-c053-4751-9c20-852900a37acd",
   "metadata": {},
   "source": [
    "1. Pandas\n",
    "2. NumPy\n",
    "3. Matplotlib\n",
    "4. scikitlearn"
   ]
  },
  {
   "cell_type": "markdown",
   "id": "43975b9c-3ecf-460c-97c6-277a9777708e",
   "metadata": {},
   "source": [
    "|Data Science Tools|\n",
    "|-|\n",
    "|Jupyter Notebook|\n",
    "|RStudio|\n",
    "|Apache Zeppelin|"
   ]
  },
  {
   "attachments": {},
   "cell_type": "markdown",
   "id": "a06859b2-da05-4f27-b641-64a5ec38c5c8",
   "metadata": {},
   "source": [
    "### Below are a few examples of evaluating arithmetic expressions in Python"
   ]
  },
  {
   "cell_type": "markdown",
   "id": "25fafc49-3a92-4b27-8003-efca3bde2470",
   "metadata": {},
   "source": [
    "This a simple arithmetic expression to mutiply then add integers"
   ]
  },
  {
   "cell_type": "code",
   "execution_count": 3,
   "id": "6821d840-3059-4e50-9597-9582da618a23",
   "metadata": {},
   "outputs": [
    {
     "data": {
      "text/plain": [
       "17"
      ]
     },
     "execution_count": 3,
     "metadata": {},
     "output_type": "execute_result"
    }
   ],
   "source": [
    "(3*4)+5"
   ]
  },
  {
   "cell_type": "markdown",
   "id": "a323d467-5ec7-4101-84a3-5f81e8c132be",
   "metadata": {},
   "source": [
    "This will convert 200 minutes to hours by diving by 60"
   ]
  },
  {
   "cell_type": "code",
   "execution_count": 6,
   "id": "c3f7ffe4-081e-4393-8217-0bc76d45223c",
   "metadata": {},
   "outputs": [
    {
     "name": "stdout",
     "output_type": "stream",
     "text": [
      "3.3333333333333335\n"
     ]
    }
   ],
   "source": [
    "minutes_in_hour=60\n",
    "minutes_to_convert=200\n",
    "result=minutes_to_convert/minutes_in_hour\n",
    "print(result)"
   ]
  },
  {
   "cell_type": "markdown",
   "id": "e4f7fa21-a6ec-4b69-b69f-2b0c224b7dc7",
   "metadata": {},
   "source": [
    "## Author"
   ]
  },
  {
   "cell_type": "markdown",
   "id": "cadd1e0e-ec46-412a-a5e6-2e29dc08b0d3",
   "metadata": {},
   "source": [
    "Claudio Mazzei"
   ]
  },
  {
   "cell_type": "code",
   "execution_count": null,
   "id": "c1356851-d1d1-441d-82f4-37f850bf39d9",
   "metadata": {},
   "outputs": [],
   "source": []
  }
 ],
 "metadata": {
  "kernelspec": {
   "display_name": "Python 3 (ipykernel)",
   "language": "python",
   "name": "python3"
  },
  "language_info": {
   "codemirror_mode": {
    "name": "ipython",
    "version": 3
   },
   "file_extension": ".py",
   "mimetype": "text/x-python",
   "name": "python",
   "nbconvert_exporter": "python",
   "pygments_lexer": "ipython3",
   "version": "3.12.4"
  }
 },
 "nbformat": 4,
 "nbformat_minor": 5
}
